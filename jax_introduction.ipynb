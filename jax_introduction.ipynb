{
  "cells": [
    {
      "cell_type": "markdown",
      "id": "64ff08b1",
      "metadata": {
        "id": "64ff08b1"
      },
      "source": [
        "# An Introduction to JAX"
      ]
    },
    {
      "cell_type": "markdown",
      "id": "fcce3d27",
      "metadata": {
        "id": "fcce3d27"
      },
      "source": [
        "# GPU\n",
        "\n",
        "This lecture was built using [hardware](https://jax.quantecon.org/status.html#status-machine-details) that has access to a GPU.\n",
        "\n",
        "To run this lecture on [Google Colab](https://colab.research.google.com/), click on the “play” icon top right, select Colab, and set the runtime environment to include a GPU.\n",
        "\n",
        "To run this lecture on your own machine, you need to install [Google JAX](https://github.com/google/jax).\n",
        "\n",
        "This lecture provides a short introduction to [Google JAX](https://github.com/google/jax)."
      ]
    },
    {
      "cell_type": "markdown",
      "id": "2b6d5554",
      "metadata": {
        "id": "2b6d5554"
      },
      "source": [
        "## JAX as a NumPy Replacement\n",
        "\n",
        "One way to use JAX is as a plug-in NumPy replacement. Let’s look at the\n",
        "similarities and differences."
      ]
    },
    {
      "cell_type": "markdown",
      "id": "4590f740",
      "metadata": {
        "id": "4590f740"
      },
      "source": [
        "### Similarities\n",
        "\n",
        "The following import is standard, replacing `import numpy as np`:"
      ]
    },
    {
      "cell_type": "code",
      "execution_count": 1,
      "id": "982b8e43",
      "metadata": {
        "hide-output": false,
        "id": "982b8e43"
      },
      "outputs": [],
      "source": [
        "import jax\n",
        "import jax.numpy as jnp"
      ]
    },
    {
      "cell_type": "markdown",
      "id": "d3488553",
      "metadata": {
        "id": "d3488553"
      },
      "source": [
        "Now we can use `jnp` in place of `np` for the usual array operations:"
      ]
    },
    {
      "cell_type": "code",
      "execution_count": 2,
      "id": "ab824a58",
      "metadata": {
        "hide-output": false,
        "id": "ab824a58"
      },
      "outputs": [],
      "source": [
        "a = jnp.asarray((1.0, 3.2, 1.8))"
      ]
    },
    {
      "cell_type": "code",
      "execution_count": 3,
      "id": "45517249",
      "metadata": {
        "hide-output": false,
        "id": "45517249",
        "outputId": "a4ac4769-5939-47fa-96ff-0f4c255b761b",
        "colab": {
          "base_uri": "https://localhost:8080/"
        }
      },
      "outputs": [
        {
          "output_type": "stream",
          "name": "stdout",
          "text": [
            "[1.  3.2 1.8]\n"
          ]
        }
      ],
      "source": [
        "print(a)"
      ]
    },
    {
      "cell_type": "code",
      "execution_count": 4,
      "id": "1da999eb",
      "metadata": {
        "hide-output": false,
        "id": "1da999eb",
        "outputId": "9033b7d2-57b8-45b4-ec5f-cff087d07ebf",
        "colab": {
          "base_uri": "https://localhost:8080/"
        }
      },
      "outputs": [
        {
          "output_type": "stream",
          "name": "stdout",
          "text": [
            "6.0\n"
          ]
        }
      ],
      "source": [
        "print(jnp.sum(a))"
      ]
    },
    {
      "cell_type": "code",
      "execution_count": 5,
      "id": "bd376afb",
      "metadata": {
        "hide-output": false,
        "id": "bd376afb",
        "outputId": "6069ead9-9d0c-4be3-c94e-e0fa0c00e704",
        "colab": {
          "base_uri": "https://localhost:8080/"
        }
      },
      "outputs": [
        {
          "output_type": "stream",
          "name": "stdout",
          "text": [
            "2.0\n"
          ]
        }
      ],
      "source": [
        "print(jnp.mean(a))"
      ]
    },
    {
      "cell_type": "code",
      "execution_count": 6,
      "id": "bec08606",
      "metadata": {
        "hide-output": false,
        "id": "bec08606",
        "outputId": "17b23f2d-fc5f-423f-f95b-dc637662e01a",
        "colab": {
          "base_uri": "https://localhost:8080/"
        }
      },
      "outputs": [
        {
          "output_type": "stream",
          "name": "stdout",
          "text": [
            "14.4800005\n"
          ]
        }
      ],
      "source": [
        "print(jnp.dot(a, a))"
      ]
    },
    {
      "cell_type": "markdown",
      "id": "789cf4fd",
      "metadata": {
        "id": "789cf4fd"
      },
      "source": [
        "However, the array object `a` is not a NumPy array:"
      ]
    },
    {
      "cell_type": "code",
      "execution_count": 7,
      "id": "ba70dffa",
      "metadata": {
        "hide-output": false,
        "id": "ba70dffa",
        "outputId": "5545a91c-39db-408a-d11e-0681ed34f14c",
        "colab": {
          "base_uri": "https://localhost:8080/"
        }
      },
      "outputs": [
        {
          "output_type": "execute_result",
          "data": {
            "text/plain": [
              "Array([1. , 3.2, 1.8], dtype=float32)"
            ]
          },
          "metadata": {},
          "execution_count": 7
        }
      ],
      "source": [
        "a"
      ]
    },
    {
      "cell_type": "code",
      "execution_count": 8,
      "id": "15efa433",
      "metadata": {
        "hide-output": false,
        "id": "15efa433",
        "outputId": "226021af-b2ab-417a-fe75-696393b711b4",
        "colab": {
          "base_uri": "https://localhost:8080/"
        }
      },
      "outputs": [
        {
          "output_type": "execute_result",
          "data": {
            "text/plain": [
              "jaxlib.xla_extension.ArrayImpl"
            ]
          },
          "metadata": {},
          "execution_count": 8
        }
      ],
      "source": [
        "type(a)"
      ]
    },
    {
      "cell_type": "markdown",
      "id": "6fa8a4a9",
      "metadata": {
        "id": "6fa8a4a9"
      },
      "source": [
        "Even scalar-valued maps on arrays return JAX arrays."
      ]
    },
    {
      "cell_type": "code",
      "execution_count": 9,
      "id": "8f899a03",
      "metadata": {
        "hide-output": false,
        "id": "8f899a03",
        "outputId": "b639503c-1f34-46b5-8357-1c457ef3ecb6",
        "colab": {
          "base_uri": "https://localhost:8080/"
        }
      },
      "outputs": [
        {
          "output_type": "execute_result",
          "data": {
            "text/plain": [
              "Array(6., dtype=float32)"
            ]
          },
          "metadata": {},
          "execution_count": 9
        }
      ],
      "source": [
        "jnp.sum(a)"
      ]
    },
    {
      "cell_type": "markdown",
      "id": "c3e2dc3b",
      "metadata": {
        "id": "c3e2dc3b"
      },
      "source": [
        "JAX arrays are also called “device arrays,” where term “device” refers to a\n",
        "hardware accelerator (GPU or TPU).\n",
        "\n",
        "(In the terminology of GPUs, the “host” is the machine that launches GPU operations, while the “device” is the GPU itself.)\n",
        "\n",
        "Operations on higher dimensional arrays are also similar to NumPy:"
      ]
    },
    {
      "cell_type": "code",
      "execution_count": 10,
      "id": "6357a99c",
      "metadata": {
        "hide-output": false,
        "id": "6357a99c",
        "outputId": "f2dea722-f524-4564-bcef-e47fe9132f24",
        "colab": {
          "base_uri": "https://localhost:8080/"
        }
      },
      "outputs": [
        {
          "output_type": "stream",
          "name": "stdout",
          "text": [
            "[[1. 1.]\n",
            " [1. 1.]]\n",
            "[[1. 0.]\n",
            " [0. 1.]]\n",
            "493 µs ± 4.65 µs per loop (mean ± std. dev. of 7 runs, 1000 loops each)\n",
            "496 µs ± 2.99 µs per loop (mean ± std. dev. of 7 runs, 1000 loops each)\n",
            "496 µs ± 1.18 µs per loop (mean ± std. dev. of 7 runs, 1000 loops each)\n",
            "[[1. 1.]\n",
            " [1. 1.]]\n",
            "[[1. 1.]\n",
            " [1. 1.]]\n",
            "[[1. 1.]\n",
            " [1. 1.]]\n"
          ]
        }
      ],
      "source": [
        "A = jnp.ones((2, 2))\n",
        "B = jnp.identity(2)\n",
        "A @ B\n",
        "print(A)\n",
        "print(B)\n",
        "\n",
        "n = 500\n",
        "a = jnp.arange(n**2).reshape(n, n)\n",
        "b = jnp.arange(n**2).reshape(n, n)\n",
        "\n",
        "%timeit jnp.dot(a,b) #493 µs ± 1.58 µs per loop (mean ± std. dev. of 7 runs, 1000 loops each)\n",
        "%timeit a @ b        #498 µs ± 646 ns per loop (mean ± std. dev. of 7 runs, 1000 loops each)\n",
        "%timeit jnp.matmul(a,b) #499 µs ± 666 ns per loop (mean ± std. dev. of 7 runs, 1000 loops each)\n",
        "\n",
        "print(jnp.dot(A,B))\n",
        "print(A @ B)\n",
        "print(jnp.matmul(A,B))"
      ]
    },
    {
      "cell_type": "code",
      "execution_count": 11,
      "id": "8b7b1099",
      "metadata": {
        "hide-output": false,
        "id": "8b7b1099"
      },
      "outputs": [],
      "source": [
        "#Solve system of linear equations\n",
        "from jax.numpy import linalg"
      ]
    },
    {
      "cell_type": "code",
      "execution_count": 12,
      "id": "19c3e1f2",
      "metadata": {
        "hide-output": false,
        "id": "19c3e1f2",
        "outputId": "271647fe-49cb-4079-b5f3-1a53ff35009a",
        "colab": {
          "base_uri": "https://localhost:8080/"
        }
      },
      "outputs": [
        {
          "output_type": "execute_result",
          "data": {
            "text/plain": [
              "Array([[1., 1.],\n",
              "       [1., 1.]], dtype=float32)"
            ]
          },
          "metadata": {},
          "execution_count": 12
        }
      ],
      "source": [
        "linalg.solve(B, A)"
      ]
    },
    {
      "cell_type": "code",
      "execution_count": 13,
      "id": "a8b44743",
      "metadata": {
        "hide-output": false,
        "id": "a8b44743",
        "outputId": "807ebdd5-2e64-4076-9284-3edbdb20c54f",
        "colab": {
          "base_uri": "https://localhost:8080/"
        }
      },
      "outputs": [
        {
          "output_type": "execute_result",
          "data": {
            "text/plain": [
              "(Array([0.99999994, 0.99999994], dtype=float32),\n",
              " Array([[1., 0.],\n",
              "        [0., 1.]], dtype=float32))"
            ]
          },
          "metadata": {},
          "execution_count": 13
        }
      ],
      "source": [
        "linalg.eigh(B)  # Computes eigenvalues and eigenvectors"
      ]
    },
    {
      "cell_type": "markdown",
      "id": "395fc963",
      "metadata": {
        "id": "395fc963"
      },
      "source": [
        "### Differences\n",
        "\n",
        "One difference between NumPy and JAX is that, when running on a GPU, JAX uses 32 bit floats by default.\n",
        "\n",
        "This is standard for GPU computing and can lead to significant speed gains with small loss of precision.\n",
        "\n",
        "However, for some calculations precision matters.  In these cases 64 bit floats can be enforced via the command"
      ]
    },
    {
      "cell_type": "code",
      "execution_count": 14,
      "id": "548cbd3f",
      "metadata": {
        "hide-output": false,
        "id": "548cbd3f"
      },
      "outputs": [],
      "source": [
        "jax.config.update(\"jax_enable_x64\", True)"
      ]
    },
    {
      "cell_type": "markdown",
      "id": "7e460a08",
      "metadata": {
        "id": "7e460a08"
      },
      "source": [
        "Let’s check this works:"
      ]
    },
    {
      "cell_type": "code",
      "execution_count": 15,
      "id": "bdfde07f",
      "metadata": {
        "hide-output": false,
        "id": "bdfde07f",
        "outputId": "5676b74d-45ab-4e51-ad95-2e1177e8d1ed",
        "colab": {
          "base_uri": "https://localhost:8080/"
        }
      },
      "outputs": [
        {
          "output_type": "execute_result",
          "data": {
            "text/plain": [
              "Array([1., 1., 1.], dtype=float64)"
            ]
          },
          "metadata": {},
          "execution_count": 15
        }
      ],
      "source": [
        "jnp.ones(3)"
      ]
    },
    {
      "cell_type": "markdown",
      "id": "25949ac8",
      "metadata": {
        "id": "25949ac8"
      },
      "source": [
        "As a NumPy replacement, a more significant difference is that arrays are treated as **immutable**.\n",
        "\n",
        "For example, with NumPy we can write"
      ]
    },
    {
      "cell_type": "code",
      "execution_count": 16,
      "id": "b033e709",
      "metadata": {
        "hide-output": false,
        "id": "b033e709",
        "outputId": "97475165-fa19-485e-9599-6c02a1a3cd30",
        "colab": {
          "base_uri": "https://localhost:8080/"
        }
      },
      "outputs": [
        {
          "output_type": "execute_result",
          "data": {
            "text/plain": [
              "array([0. , 0.5, 1. ])"
            ]
          },
          "metadata": {},
          "execution_count": 16
        }
      ],
      "source": [
        "import numpy as np\n",
        "a = np.linspace(0, 1, 3)\n",
        "a"
      ]
    },
    {
      "cell_type": "markdown",
      "id": "140d708f",
      "metadata": {
        "id": "140d708f"
      },
      "source": [
        "and then mutate the data in memory:"
      ]
    },
    {
      "cell_type": "code",
      "execution_count": 17,
      "id": "a2f99b6b",
      "metadata": {
        "hide-output": false,
        "id": "a2f99b6b",
        "outputId": "16e37211-c9c0-4b47-b6b0-6f5e722eda21",
        "colab": {
          "base_uri": "https://localhost:8080/"
        }
      },
      "outputs": [
        {
          "output_type": "execute_result",
          "data": {
            "text/plain": [
              "array([1. , 0.5, 1. ])"
            ]
          },
          "metadata": {},
          "execution_count": 17
        }
      ],
      "source": [
        "a[0] = 1\n",
        "a"
      ]
    },
    {
      "cell_type": "markdown",
      "id": "e90a0ee7",
      "metadata": {
        "id": "e90a0ee7"
      },
      "source": [
        "In JAX this fails:"
      ]
    },
    {
      "cell_type": "code",
      "execution_count": 18,
      "id": "58706a1a",
      "metadata": {
        "hide-output": false,
        "id": "58706a1a",
        "outputId": "ddf33d8e-56cb-4d4b-c382-926e1cc3dbf7",
        "colab": {
          "base_uri": "https://localhost:8080/"
        }
      },
      "outputs": [
        {
          "output_type": "execute_result",
          "data": {
            "text/plain": [
              "Array([0. , 0.5, 1. ], dtype=float64)"
            ]
          },
          "metadata": {},
          "execution_count": 18
        }
      ],
      "source": [
        "a = jnp.linspace(0, 1, 3)\n",
        "a"
      ]
    },
    {
      "cell_type": "code",
      "execution_count": 19,
      "id": "e58b03f8",
      "metadata": {
        "hide-output": false,
        "id": "e58b03f8",
        "outputId": "444a8573-dd48-481b-d8e5-d6f5394e8bf8",
        "colab": {
          "base_uri": "https://localhost:8080/",
          "height": 322
        }
      },
      "outputs": [
        {
          "output_type": "error",
          "ename": "TypeError",
          "evalue": "ignored",
          "traceback": [
            "\u001b[0;31m---------------------------------------------------------------------------\u001b[0m",
            "\u001b[0;31mTypeError\u001b[0m                                 Traceback (most recent call last)",
            "\u001b[0;32m<ipython-input-19-c8548dbc0a7e>\u001b[0m in \u001b[0;36m<cell line: 1>\u001b[0;34m()\u001b[0m\n\u001b[0;32m----> 1\u001b[0;31m \u001b[0ma\u001b[0m\u001b[0;34m[\u001b[0m\u001b[0;36m0\u001b[0m\u001b[0;34m]\u001b[0m \u001b[0;34m=\u001b[0m \u001b[0;36m1\u001b[0m\u001b[0;34m\u001b[0m\u001b[0;34m\u001b[0m\u001b[0m\n\u001b[0m",
            "\u001b[0;32m/usr/local/lib/python3.10/dist-packages/jax/_src/numpy/array_methods.py\u001b[0m in \u001b[0;36m_unimplemented_setitem\u001b[0;34m(self, i, x)\u001b[0m\n\u001b[1;32m    266\u001b[0m          \u001b[0;34m\"or another .at[] method: \"\u001b[0m\u001b[0;34m\u001b[0m\u001b[0;34m\u001b[0m\u001b[0m\n\u001b[1;32m    267\u001b[0m          \"https://jax.readthedocs.io/en/latest/_autosummary/jax.numpy.ndarray.at.html\")\n\u001b[0;32m--> 268\u001b[0;31m   \u001b[0;32mraise\u001b[0m \u001b[0mTypeError\u001b[0m\u001b[0;34m(\u001b[0m\u001b[0mmsg\u001b[0m\u001b[0;34m.\u001b[0m\u001b[0mformat\u001b[0m\u001b[0;34m(\u001b[0m\u001b[0mtype\u001b[0m\u001b[0;34m(\u001b[0m\u001b[0mself\u001b[0m\u001b[0;34m)\u001b[0m\u001b[0;34m)\u001b[0m\u001b[0;34m)\u001b[0m\u001b[0;34m\u001b[0m\u001b[0;34m\u001b[0m\u001b[0m\n\u001b[0m\u001b[1;32m    269\u001b[0m \u001b[0;34m\u001b[0m\u001b[0m\n\u001b[1;32m    270\u001b[0m \u001b[0;32mdef\u001b[0m \u001b[0m_operator_round\u001b[0m\u001b[0;34m(\u001b[0m\u001b[0mnumber\u001b[0m\u001b[0;34m:\u001b[0m \u001b[0mArrayLike\u001b[0m\u001b[0;34m,\u001b[0m \u001b[0mndigits\u001b[0m\u001b[0;34m:\u001b[0m \u001b[0mOptional\u001b[0m\u001b[0;34m[\u001b[0m\u001b[0mint\u001b[0m\u001b[0;34m]\u001b[0m \u001b[0;34m=\u001b[0m \u001b[0;32mNone\u001b[0m\u001b[0;34m)\u001b[0m \u001b[0;34m->\u001b[0m \u001b[0mArray\u001b[0m\u001b[0;34m:\u001b[0m\u001b[0;34m\u001b[0m\u001b[0;34m\u001b[0m\u001b[0m\n",
            "\u001b[0;31mTypeError\u001b[0m: '<class 'jaxlib.xla_extension.ArrayImpl'>' object does not support item assignment. JAX arrays are immutable. Instead of ``x[idx] = y``, use ``x = x.at[idx].set(y)`` or another .at[] method: https://jax.readthedocs.io/en/latest/_autosummary/jax.numpy.ndarray.at.html"
          ]
        }
      ],
      "source": [
        "a[0] = 1"
      ]
    },
    {
      "cell_type": "markdown",
      "id": "85d1076a",
      "metadata": {
        "id": "85d1076a"
      },
      "source": [
        "In line with immutability, JAX does not support inplace operations:"
      ]
    },
    {
      "cell_type": "code",
      "execution_count": null,
      "id": "24fe47d6",
      "metadata": {
        "hide-output": false,
        "id": "24fe47d6"
      },
      "outputs": [],
      "source": [
        "a = np.array((2, 1))\n",
        "a.sort()\n",
        "a"
      ]
    },
    {
      "cell_type": "code",
      "execution_count": 20,
      "id": "0e12d108",
      "metadata": {
        "hide-output": false,
        "id": "0e12d108",
        "outputId": "fbd7d283-e1a7-4339-9e16-f0bb4aeefb09",
        "colab": {
          "base_uri": "https://localhost:8080/"
        }
      },
      "outputs": [
        {
          "output_type": "execute_result",
          "data": {
            "text/plain": [
              "(Array([2, 1], dtype=int64), Array([1, 2], dtype=int64))"
            ]
          },
          "metadata": {},
          "execution_count": 20
        }
      ],
      "source": [
        "a = jnp.array((2, 1))\n",
        "a_new = a.sort()\n",
        "a, a_new"
      ]
    },
    {
      "cell_type": "markdown",
      "id": "cd38a600",
      "metadata": {
        "id": "cd38a600"
      },
      "source": [
        "The designers of JAX chose to make arrays immutable because JAX uses a\n",
        "functional programming style.  More on this below.\n",
        "\n",
        "Note that, while mutation is discouraged, it is in fact possible with `at`, as in"
      ]
    },
    {
      "cell_type": "code",
      "execution_count": 21,
      "id": "ab0e27d8",
      "metadata": {
        "hide-output": false,
        "id": "ab0e27d8",
        "outputId": "650f9734-52df-4aa4-ad55-eb63701dbfbc",
        "colab": {
          "base_uri": "https://localhost:8080/"
        }
      },
      "outputs": [
        {
          "output_type": "execute_result",
          "data": {
            "text/plain": [
              "95442358740768"
            ]
          },
          "metadata": {},
          "execution_count": 21
        }
      ],
      "source": [
        "a = jnp.linspace(0, 1, 3)\n",
        "id(a)"
      ]
    },
    {
      "cell_type": "code",
      "execution_count": 22,
      "id": "089744bb",
      "metadata": {
        "hide-output": false,
        "id": "089744bb",
        "outputId": "3f4eb2f3-bb3a-4588-c638-c43116aa7ee6",
        "colab": {
          "base_uri": "https://localhost:8080/"
        }
      },
      "outputs": [
        {
          "output_type": "execute_result",
          "data": {
            "text/plain": [
              "Array([0. , 0.5, 1. ], dtype=float64)"
            ]
          },
          "metadata": {},
          "execution_count": 22
        }
      ],
      "source": [
        "a"
      ]
    },
    {
      "cell_type": "code",
      "execution_count": 23,
      "id": "64866052",
      "metadata": {
        "hide-output": false,
        "id": "64866052",
        "outputId": "6f922a3e-74d0-4fc1-b21c-78a07f576475",
        "colab": {
          "base_uri": "https://localhost:8080/"
        }
      },
      "outputs": [
        {
          "output_type": "execute_result",
          "data": {
            "text/plain": [
              "Array([1. , 0.5, 1. ], dtype=float64)"
            ]
          },
          "metadata": {},
          "execution_count": 23
        }
      ],
      "source": [
        "a.at[0].set(1)"
      ]
    },
    {
      "cell_type": "markdown",
      "id": "8df766a3",
      "metadata": {
        "id": "8df766a3"
      },
      "source": [
        "We can check that the array is mutated by verifying its identity is unchanged:"
      ]
    },
    {
      "cell_type": "code",
      "execution_count": 24,
      "id": "46aa7402",
      "metadata": {
        "hide-output": false,
        "id": "46aa7402",
        "outputId": "e4649263-b44d-4372-88d8-2489fd1afe46",
        "colab": {
          "base_uri": "https://localhost:8080/"
        }
      },
      "outputs": [
        {
          "output_type": "execute_result",
          "data": {
            "text/plain": [
              "95442358740768"
            ]
          },
          "metadata": {},
          "execution_count": 24
        }
      ],
      "source": [
        "id(a)"
      ]
    },
    {
      "cell_type": "markdown",
      "id": "0dde3244",
      "metadata": {
        "id": "0dde3244"
      },
      "source": [
        "## Random Numbers\n",
        "\n",
        "Random numbers are also a bit different in JAX, relative to NumPy.  Typically, in JAX, the state of the random number generator needs to be controlled explicitly."
      ]
    },
    {
      "cell_type": "code",
      "execution_count": 25,
      "id": "4b69dc4a",
      "metadata": {
        "hide-output": false,
        "id": "4b69dc4a"
      },
      "outputs": [],
      "source": [
        "import jax.random as random"
      ]
    },
    {
      "cell_type": "markdown",
      "id": "7a5c2e49",
      "metadata": {
        "id": "7a5c2e49"
      },
      "source": [
        "First we produce a key, which seeds the random number generator."
      ]
    },
    {
      "cell_type": "code",
      "execution_count": 26,
      "id": "f90a465f",
      "metadata": {
        "hide-output": false,
        "id": "f90a465f"
      },
      "outputs": [],
      "source": [
        "key = random.PRNGKey(1)"
      ]
    },
    {
      "cell_type": "code",
      "execution_count": 27,
      "id": "148be358",
      "metadata": {
        "hide-output": false,
        "id": "148be358",
        "outputId": "73e2f7e3-4e85-4886-b125-17d211f56f09",
        "colab": {
          "base_uri": "https://localhost:8080/"
        }
      },
      "outputs": [
        {
          "output_type": "execute_result",
          "data": {
            "text/plain": [
              "jaxlib.xla_extension.ArrayImpl"
            ]
          },
          "metadata": {},
          "execution_count": 27
        }
      ],
      "source": [
        "type(key)"
      ]
    },
    {
      "cell_type": "code",
      "execution_count": 28,
      "id": "07436fec",
      "metadata": {
        "hide-output": false,
        "id": "07436fec",
        "outputId": "c111d98b-6aaf-4171-c15a-5ea6e1669317",
        "colab": {
          "base_uri": "https://localhost:8080/"
        }
      },
      "outputs": [
        {
          "output_type": "stream",
          "name": "stdout",
          "text": [
            "[0 1]\n"
          ]
        }
      ],
      "source": [
        "print(key)"
      ]
    },
    {
      "cell_type": "markdown",
      "id": "84b279bb",
      "metadata": {
        "id": "84b279bb"
      },
      "source": [
        "Now we can use the key to generate some random numbers:"
      ]
    },
    {
      "cell_type": "code",
      "execution_count": 29,
      "id": "40d3545d",
      "metadata": {
        "hide-output": false,
        "id": "40d3545d",
        "outputId": "946f552f-e983-4cdb-aea9-65a35e155b5d",
        "colab": {
          "base_uri": "https://localhost:8080/"
        }
      },
      "outputs": [
        {
          "output_type": "execute_result",
          "data": {
            "text/plain": [
              "Array([[-1.35247421, -0.2712502 , -0.02920518],\n",
              "       [ 0.34706456,  0.5464053 , -1.52325812],\n",
              "       [ 0.41677264, -0.59710138, -0.5678208 ]], dtype=float64)"
            ]
          },
          "metadata": {},
          "execution_count": 29
        }
      ],
      "source": [
        "x = random.normal(key, (3, 3))\n",
        "x"
      ]
    },
    {
      "cell_type": "markdown",
      "id": "05637c4d",
      "metadata": {
        "id": "05637c4d"
      },
      "source": [
        "If we use the same key again, we initialize at the same seed, so the random numbers are the same:"
      ]
    },
    {
      "cell_type": "code",
      "execution_count": 30,
      "id": "2177853b",
      "metadata": {
        "hide-output": false,
        "id": "2177853b",
        "outputId": "ad039aad-e252-4f02-fdcb-38f3ca0f34eb",
        "colab": {
          "base_uri": "https://localhost:8080/"
        }
      },
      "outputs": [
        {
          "output_type": "stream",
          "name": "stdout",
          "text": [
            "[0 1]\n"
          ]
        }
      ],
      "source": [
        "random.normal(key, (3, 3))\n",
        "print(key)"
      ]
    },
    {
      "cell_type": "markdown",
      "id": "9e1718a3",
      "metadata": {
        "id": "9e1718a3"
      },
      "source": [
        "To produce a (quasi-) independent draw, best practice is to “split” the existing key:"
      ]
    },
    {
      "cell_type": "code",
      "execution_count": 31,
      "id": "c1efd910",
      "metadata": {
        "hide-output": false,
        "id": "c1efd910",
        "outputId": "832c3e8c-98d6-4cb7-9acd-ecf0779ee467",
        "colab": {
          "base_uri": "https://localhost:8080/"
        }
      },
      "outputs": [
        {
          "output_type": "stream",
          "name": "stdout",
          "text": [
            "[2441914641 1384938218]\n",
            "[3819641963 2025898573]\n"
          ]
        }
      ],
      "source": [
        "key, subkey = random.split(key)\n",
        "print(key)\n",
        "print(subkey)"
      ]
    },
    {
      "cell_type": "code",
      "execution_count": 32,
      "id": "d24d4591",
      "metadata": {
        "hide-output": false,
        "id": "d24d4591",
        "outputId": "c795cff4-21cb-495e-c4ea-fb1a02358841",
        "colab": {
          "base_uri": "https://localhost:8080/"
        }
      },
      "outputs": [
        {
          "output_type": "execute_result",
          "data": {
            "text/plain": [
              "Array([[ 1.85374374, -0.37683949, -0.61276867],\n",
              "       [-1.91829718,  0.27219409,  0.54922246],\n",
              "       [ 0.40451442, -0.58726839, -0.63967753]], dtype=float64)"
            ]
          },
          "metadata": {},
          "execution_count": 32
        }
      ],
      "source": [
        "random.normal(key, (3, 3))"
      ]
    },
    {
      "cell_type": "code",
      "execution_count": 34,
      "id": "c98fef4c",
      "metadata": {
        "hide-output": false,
        "id": "c98fef4c",
        "outputId": "5e6e0461-033a-4938-a1dd-994b0a5e33f2",
        "colab": {
          "base_uri": "https://localhost:8080/"
        }
      },
      "outputs": [
        {
          "output_type": "execute_result",
          "data": {
            "text/plain": [
              "Array([[-0.4300635 ,  0.22778552,  0.57241269],\n",
              "       [-0.15969178,  0.46719192,  0.21165091],\n",
              "       [ 0.84118631,  1.18671326, -0.16607783]], dtype=float64)"
            ]
          },
          "metadata": {},
          "execution_count": 34
        }
      ],
      "source": [
        "random.normal(subkey, (3, 3))"
      ]
    },
    {
      "cell_type": "markdown",
      "id": "1a9ae8f7",
      "metadata": {
        "id": "1a9ae8f7"
      },
      "source": [
        "The function below produces `k` (quasi-) independent random `n x n` matrices using this procedure."
      ]
    },
    {
      "cell_type": "code",
      "execution_count": 35,
      "id": "4e33ba35",
      "metadata": {
        "hide-output": false,
        "id": "4e33ba35"
      },
      "outputs": [],
      "source": [
        "def gen_random_matrices(key, n, k):\n",
        "    matrices = []\n",
        "    for _ in range(k):\n",
        "        key, subkey = random.split(key)\n",
        "        matrices.append(random.uniform(subkey, (n, n)))\n",
        "    return matrices"
      ]
    },
    {
      "cell_type": "code",
      "execution_count": 36,
      "id": "d64f761b",
      "metadata": {
        "hide-output": false,
        "id": "d64f761b",
        "outputId": "4c4cf596-0941-4dae-a038-532ec961b8ca",
        "colab": {
          "base_uri": "https://localhost:8080/"
        }
      },
      "outputs": [
        {
          "output_type": "stream",
          "name": "stdout",
          "text": [
            "[[0.97440813 0.3838544 ]\n",
            " [0.9790686  0.99981046]]\n",
            "[[0.3473302  0.17157842]\n",
            " [0.89346686 0.01403153]]\n"
          ]
        }
      ],
      "source": [
        "matrices = gen_random_matrices(key, 2, 2)\n",
        "for A in matrices:\n",
        "    print(A)"
      ]
    },
    {
      "cell_type": "markdown",
      "id": "169486dd",
      "metadata": {
        "id": "169486dd"
      },
      "source": [
        "One point to remember is that JAX expects tuples to describe array shapes, even for flat arrays.  Hence, to get a one-dimensional array of normal random draws we use `(len, )` for the shape, as in"
      ]
    },
    {
      "cell_type": "code",
      "execution_count": 37,
      "id": "f181eeae",
      "metadata": {
        "hide-output": false,
        "id": "f181eeae",
        "outputId": "ba9ed64a-310f-4e08-efe2-4a548e1a4cff",
        "colab": {
          "base_uri": "https://localhost:8080/"
        }
      },
      "outputs": [
        {
          "output_type": "execute_result",
          "data": {
            "text/plain": [
              "Array([-0.64377279,  0.76961857, -0.29809604,  0.47858776, -2.00591299],      dtype=float64)"
            ]
          },
          "metadata": {},
          "execution_count": 37
        }
      ],
      "source": [
        "random.normal(key, (5, ))"
      ]
    },
    {
      "cell_type": "markdown",
      "id": "2afebfb3",
      "metadata": {
        "id": "2afebfb3"
      },
      "source": [
        "## JIT Compilation\n",
        "\n",
        "The JAX JIT compiler accelerates logic within functions by fusing linear\n",
        "algebra operations into a single, highly optimized kernel that the host can\n",
        "launch on the GPU / TPU (or CPU if no accelerator is detected).\n",
        "\n",
        "Consider the following pure Python function."
      ]
    },
    {
      "cell_type": "code",
      "execution_count": 38,
      "id": "fdcec69c",
      "metadata": {
        "hide-output": false,
        "id": "fdcec69c"
      },
      "outputs": [],
      "source": [
        "def f(x, p=1000):\n",
        "    return sum((k*x for k in range(p)))"
      ]
    },
    {
      "cell_type": "markdown",
      "id": "bb6e52e0",
      "metadata": {
        "id": "bb6e52e0"
      },
      "source": [
        "Let’s build an array to call the function on."
      ]
    },
    {
      "cell_type": "code",
      "execution_count": 39,
      "id": "48d8133e",
      "metadata": {
        "hide-output": false,
        "id": "48d8133e",
        "outputId": "36898b02-88ad-4d83-98ba-ea4008607623",
        "colab": {
          "base_uri": "https://localhost:8080/"
        }
      },
      "outputs": [
        {
          "output_type": "stream",
          "name": "stdout",
          "text": [
            "[1. 1. 1. ... 1. 1. 1.]\n"
          ]
        }
      ],
      "source": [
        "n = 50_000_000\n",
        "x = jnp.ones(n)\n",
        "print(x)"
      ]
    },
    {
      "cell_type": "markdown",
      "id": "e098c1e7",
      "metadata": {
        "id": "e098c1e7"
      },
      "source": [
        "How long does the function take to execute?"
      ]
    },
    {
      "cell_type": "code",
      "execution_count": 40,
      "id": "a28ef09f",
      "metadata": {
        "hide-output": false,
        "id": "a28ef09f",
        "outputId": "2e3becbb-bdc5-44c9-903a-b73d0d14cb49",
        "colab": {
          "base_uri": "https://localhost:8080/"
        }
      },
      "outputs": [
        {
          "output_type": "stream",
          "name": "stdout",
          "text": [
            "CPU times: user 536 ms, sys: 135 ms, total: 671 ms\n",
            "Wall time: 11.9 s\n"
          ]
        },
        {
          "output_type": "execute_result",
          "data": {
            "text/plain": [
              "Array([499500., 499500., 499500., ..., 499500., 499500., 499500.],      dtype=float64)"
            ]
          },
          "metadata": {},
          "execution_count": 40
        }
      ],
      "source": [
        "%time f(x).block_until_ready()"
      ]
    },
    {
      "cell_type": "markdown",
      "id": "b5f60dd4",
      "metadata": {
        "id": "b5f60dd4"
      },
      "source": [
        ">**Note**\n",
        ">\n",
        ">Here, in order to measure actual speed, we use the `block_until_ready()` method\n",
        "to hold the interpreter until the results of the computation are returned from\n",
        "the device.\n",
        "\n",
        "This is necessary because JAX uses asynchronous dispatch, which allows the\n",
        "Python interpreter to run ahead of GPU computations.\n",
        "\n",
        "This code is not particularly fast.\n",
        "\n",
        "While it is run on the GPU (since `x` is a JAX array), each vector `k * x` has to be instantiated before the final sum is computed.\n",
        "\n",
        "If we JIT-compile the function with JAX, then the operations are fused and no intermediate arrays are created."
      ]
    },
    {
      "cell_type": "code",
      "execution_count": 41,
      "id": "583afb00",
      "metadata": {
        "hide-output": false,
        "id": "583afb00"
      },
      "outputs": [],
      "source": [
        "f_jit = jax.jit(f)   # target for JIT compilation"
      ]
    },
    {
      "cell_type": "markdown",
      "id": "f8a6b4cb",
      "metadata": {
        "id": "f8a6b4cb"
      },
      "source": [
        "Let’s run once to compile it:"
      ]
    },
    {
      "cell_type": "code",
      "execution_count": 42,
      "id": "cad4780e",
      "metadata": {
        "hide-output": false,
        "id": "cad4780e",
        "outputId": "855d60e8-6eb4-47c0-95e2-72ad1e8c2642",
        "colab": {
          "base_uri": "https://localhost:8080/"
        }
      },
      "outputs": [
        {
          "output_type": "execute_result",
          "data": {
            "text/plain": [
              "Array([499500., 499500., 499500., ..., 499500., 499500., 499500.],      dtype=float64)"
            ]
          },
          "metadata": {},
          "execution_count": 42
        }
      ],
      "source": [
        "f_jit(x)"
      ]
    },
    {
      "cell_type": "markdown",
      "id": "5388ab04",
      "metadata": {
        "id": "5388ab04"
      },
      "source": [
        "And now let’s time it."
      ]
    },
    {
      "cell_type": "code",
      "execution_count": 43,
      "id": "d16d5e13",
      "metadata": {
        "hide-output": false,
        "id": "d16d5e13",
        "outputId": "7eb8a0dc-7da9-4cfa-c8bb-6052706c2001",
        "colab": {
          "base_uri": "https://localhost:8080/"
        }
      },
      "outputs": [
        {
          "output_type": "stream",
          "name": "stdout",
          "text": [
            "CPU times: user 5.53 ms, sys: 13 µs, total: 5.55 ms\n",
            "Wall time: 933 ms\n"
          ]
        },
        {
          "output_type": "execute_result",
          "data": {
            "text/plain": [
              "Array([499500., 499500., 499500., ..., 499500., 499500., 499500.],      dtype=float64)"
            ]
          },
          "metadata": {},
          "execution_count": 43
        }
      ],
      "source": [
        "%time f_jit(x).block_until_ready()"
      ]
    },
    {
      "cell_type": "markdown",
      "id": "e5d60e5c",
      "metadata": {
        "id": "e5d60e5c"
      },
      "source": [
        "Note the large speed gain."
      ]
    },
    {
      "cell_type": "markdown",
      "id": "4ddb9348",
      "metadata": {
        "id": "4ddb9348"
      },
      "source": [
        "## Functional Programming\n",
        "\n",
        "From JAX’s documentation:\n",
        "\n",
        "*When walking about the countryside of Italy, the people will not hesitate to tell you that JAX has “una anima di pura programmazione funzionale”.*\n",
        "\n",
        "In other words, JAX assumes a functional programming style.\n",
        "\n",
        "The major implication is that JAX functions should be pure.\n",
        "\n",
        "A pure function will always return the same result if invoked with the same inputs.\n",
        "\n",
        "In particular, a pure function has\n",
        "\n",
        "- no dependence on global variables and  \n",
        "- no side effects, for example print()\n",
        "\n",
        "\n",
        "JAX will not usually throw errors when compiling impure functions but execution becomes unpredictable.\n",
        "\n",
        "Here’s an illustration of this fact, using global variables:"
      ]
    },
    {
      "cell_type": "code",
      "execution_count": 44,
      "id": "bf091944",
      "metadata": {
        "hide-output": false,
        "id": "bf091944"
      },
      "outputs": [],
      "source": [
        "a = 1  # global\n",
        "\n",
        "@jax.jit\n",
        "def f(x):\n",
        "    return a + x"
      ]
    },
    {
      "cell_type": "code",
      "execution_count": 45,
      "id": "78feb120",
      "metadata": {
        "hide-output": false,
        "id": "78feb120"
      },
      "outputs": [],
      "source": [
        "x = jnp.ones(2)"
      ]
    },
    {
      "cell_type": "code",
      "execution_count": 46,
      "id": "a8885d43",
      "metadata": {
        "hide-output": false,
        "id": "a8885d43",
        "outputId": "3251c64f-b364-4895-9b76-6fd6214b5931",
        "colab": {
          "base_uri": "https://localhost:8080/"
        }
      },
      "outputs": [
        {
          "output_type": "execute_result",
          "data": {
            "text/plain": [
              "Array([2., 2.], dtype=float64)"
            ]
          },
          "metadata": {},
          "execution_count": 46
        }
      ],
      "source": [
        "f(x)"
      ]
    },
    {
      "cell_type": "markdown",
      "id": "43bcd0e4",
      "metadata": {
        "id": "43bcd0e4"
      },
      "source": [
        "In the code above, the global value `a=1` is fused into the jitted function.\n",
        "\n",
        "Even if we change `a`, the output of `f` will not be affected — as long as the same compiled version is called."
      ]
    },
    {
      "cell_type": "code",
      "execution_count": 47,
      "id": "e1099afc",
      "metadata": {
        "hide-output": false,
        "id": "e1099afc"
      },
      "outputs": [],
      "source": [
        "a = 42"
      ]
    },
    {
      "cell_type": "code",
      "execution_count": 48,
      "id": "86e84d37",
      "metadata": {
        "hide-output": false,
        "id": "86e84d37",
        "outputId": "7e3ee3e5-90b5-426a-a3bc-8a479084790b",
        "colab": {
          "base_uri": "https://localhost:8080/"
        }
      },
      "outputs": [
        {
          "output_type": "execute_result",
          "data": {
            "text/plain": [
              "Array([2., 2.], dtype=float64)"
            ]
          },
          "metadata": {},
          "execution_count": 48
        }
      ],
      "source": [
        "f(x)"
      ]
    },
    {
      "cell_type": "markdown",
      "id": "fdceacea",
      "metadata": {
        "id": "fdceacea"
      },
      "source": [
        "Changing the dimension of the input triggers a fresh compilation of the function, at which time the change in the value of `a` takes effect:"
      ]
    },
    {
      "cell_type": "code",
      "execution_count": 49,
      "id": "05be9cfc",
      "metadata": {
        "hide-output": false,
        "id": "05be9cfc"
      },
      "outputs": [],
      "source": [
        "x = np.ones(3)"
      ]
    },
    {
      "cell_type": "code",
      "execution_count": 50,
      "id": "876a79d2",
      "metadata": {
        "hide-output": false,
        "id": "876a79d2",
        "outputId": "c85238c4-a7b3-4e46-a323-dd5bcab207a7",
        "colab": {
          "base_uri": "https://localhost:8080/"
        }
      },
      "outputs": [
        {
          "output_type": "execute_result",
          "data": {
            "text/plain": [
              "Array([43., 43., 43.], dtype=float64)"
            ]
          },
          "metadata": {},
          "execution_count": 50
        }
      ],
      "source": [
        "f(x)"
      ]
    },
    {
      "cell_type": "markdown",
      "id": "481c07a5",
      "metadata": {
        "id": "481c07a5"
      },
      "source": [
        "Moral of the story: write pure functions when using JAX!"
      ]
    },
    {
      "cell_type": "markdown",
      "id": "ba523178",
      "metadata": {
        "id": "ba523178"
      },
      "source": [
        "## Gradients\n",
        "\n",
        "JAX can use automatic differentiation to compute gradients.\n",
        "\n",
        "This can be extremely useful for optimization and solving nonlinear systems.\n",
        "\n",
        "We will see significant applications later in this lecture series.\n",
        "\n",
        "For now, here’s a very simple illustration involving the function"
      ]
    },
    {
      "cell_type": "code",
      "execution_count": 51,
      "id": "6fcad0bc",
      "metadata": {
        "hide-output": false,
        "id": "6fcad0bc"
      },
      "outputs": [],
      "source": [
        "def f(x):\n",
        "    return (x**2) / 2"
      ]
    },
    {
      "cell_type": "markdown",
      "id": "c27b6f8c",
      "metadata": {
        "id": "c27b6f8c"
      },
      "source": [
        "Let’s take the derivative:"
      ]
    },
    {
      "cell_type": "code",
      "execution_count": 52,
      "id": "35cd882c",
      "metadata": {
        "hide-output": false,
        "id": "35cd882c"
      },
      "outputs": [],
      "source": [
        "f_prime = jax.grad(f)"
      ]
    },
    {
      "cell_type": "code",
      "execution_count": 53,
      "id": "c5ca2cab",
      "metadata": {
        "hide-output": false,
        "id": "c5ca2cab",
        "outputId": "330f8255-f8b6-435e-9a29-551bc5881e3f",
        "colab": {
          "base_uri": "https://localhost:8080/"
        }
      },
      "outputs": [
        {
          "output_type": "execute_result",
          "data": {
            "text/plain": [
              "Array(10., dtype=float64, weak_type=True)"
            ]
          },
          "metadata": {},
          "execution_count": 53
        }
      ],
      "source": [
        "f_prime(10.0)"
      ]
    },
    {
      "cell_type": "markdown",
      "id": "3401d3be",
      "metadata": {
        "id": "3401d3be"
      },
      "source": [
        "Let’s plot the function and derivative, noting that $ f'(x) = x $."
      ]
    },
    {
      "cell_type": "code",
      "execution_count": 54,
      "id": "2112c2db",
      "metadata": {
        "hide-output": false,
        "id": "2112c2db",
        "outputId": "b553d124-7b55-4eee-a867-ce6ef694ea60",
        "colab": {
          "base_uri": "https://localhost:8080/",
          "height": 430
        }
      },
      "outputs": [
        {
          "output_type": "display_data",
          "data": {
            "text/plain": [
              "<Figure size 640x480 with 1 Axes>"
            ],
            "image/png": "[encoded data removed]"
          },
          "metadata": {}
        }
      ],
      "source": [
        "import matplotlib.pyplot as plt\n",
        "\n",
        "fig, ax = plt.subplots()\n",
        "x_grid = jnp.linspace(-4, 4, 200)\n",
        "ax.plot(x_grid, f(x_grid), label=\"$f$\")\n",
        "ax.plot(x_grid, [f_prime(x) for x in x_grid], label=\"$f'$\")\n",
        "ax.legend(loc='upper center')\n",
        "plt.show()"
      ]
    },
    {
      "cell_type": "markdown",
      "id": "35790a61",
      "metadata": {
        "id": "35790a61"
      },
      "source": [
        "## Exercises"
      ]
    },
    {
      "cell_type": "markdown",
      "id": "12815ee4",
      "metadata": {
        "id": "12815ee4"
      },
      "source": [
        "## Exercise 2.1\n",
        "\n",
        "Newton-Raphson Method\n",
        "Recall that Newton’s method for solving for the root of $ f $ involves iterating on\n",
        "\n",
        "$$\n",
        "q(x) = x - \\frac{f(x)}{f'(x)}\n",
        "$$\n",
        "\n",
        "Write a function called `newton` that takes a function $ f $ plus a guess $ x_0 $ and returns an approximate fixed point.\n",
        "\n",
        "Your `newton` implementation should use automatic differentiation to calculate $ f' $.\n",
        "\n",
        "Test your `newton` method on the function shown below."
      ]
    },
    {
      "cell_type": "code",
      "execution_count": 55,
      "id": "5ed40b73",
      "metadata": {
        "hide-output": false,
        "id": "5ed40b73",
        "outputId": "86aca952-d988-43eb-9a61-09a702d05804",
        "colab": {
          "base_uri": "https://localhost:8080/",
          "height": 453
        }
      },
      "outputs": [
        {
          "output_type": "display_data",
          "data": {
            "text/plain": [
              "<Figure size 640x480 with 1 Axes>"
            ],
            "image/png": "[encoded data removed]"
          },
          "metadata": {}
        }
      ],
      "source": [
        "f = lambda x: jnp.sin(4 * (x - 1/4)) + x + x**20 - 1\n",
        "x = jnp.linspace(0, 1, 100)\n",
        "\n",
        "fig, ax = plt.subplots()\n",
        "ax.plot(x, f(x), label='$f(x)$')\n",
        "ax.axhline(ls='--', c='k')\n",
        "ax.set_xlabel('$x$', fontsize=12)\n",
        "ax.set_ylabel('$f(x)$', fontsize=12)\n",
        "ax.legend(fontsize=12)\n",
        "plt.show()"
      ]
    },
    {
      "cell_type": "markdown",
      "id": "888e16ae",
      "metadata": {
        "id": "888e16ae"
      },
      "source": [
        "## Solution to[ Exercise 2.1](https://jax.quantecon.org/#jax_intro_ex1)\n",
        "\n",
        "Here’s a suitable function:"
      ]
    },
    {
      "cell_type": "code",
      "execution_count": 57,
      "id": "c8e655a7",
      "metadata": {
        "hide-output": false,
        "id": "c8e655a7"
      },
      "outputs": [],
      "source": [
        "def newton(f, x_0, tol=1e-5):\n",
        "    f_prime = jax.grad(f)\n",
        "    def q(x):\n",
        "        return x - f(x) / f_prime(x)\n",
        "\n",
        "    error = tol + 1\n",
        "    x = x_0\n",
        "    while error > tol:\n",
        "        y = q(x)\n",
        "        error = abs(x - y)\n",
        "        x = y\n",
        "\n",
        "    return x"
      ]
    },
    {
      "cell_type": "markdown",
      "id": "0d376672",
      "metadata": {
        "id": "0d376672"
      },
      "source": [
        "Let’s try it:"
      ]
    },
    {
      "cell_type": "code",
      "execution_count": 58,
      "id": "96ce9486",
      "metadata": {
        "hide-output": false,
        "id": "96ce9486",
        "outputId": "8f01897b-5191-4b88-8541-61b020e4bb49",
        "colab": {
          "base_uri": "https://localhost:8080/"
        }
      },
      "outputs": [
        {
          "output_type": "execute_result",
          "data": {
            "text/plain": [
              "Array(0.4082935, dtype=float64, weak_type=True)"
            ]
          },
          "metadata": {},
          "execution_count": 58
        }
      ],
      "source": [
        "newton(f, 0.2)"
      ]
    },
    {
      "cell_type": "markdown",
      "id": "ff1bec2f",
      "metadata": {
        "id": "ff1bec2f"
      },
      "source": [
        "This number looks good, given the figure."
      ]
    },
    {
      "cell_type": "markdown",
      "id": "4cab193c",
      "metadata": {
        "id": "4cab193c"
      },
      "source": [
        "## Exercise 2.2\n",
        "\n",
        "In [an earlier exercise on parallelization](#jax_intro_ex1), we used Monte\n",
        "Carlo to price a European call option.\n",
        "\n",
        "The code was accelerated by Numba-based multithreading.\n",
        "\n",
        "Try writing a version of this operation for JAX, using all the same\n",
        "parameters.\n",
        "\n",
        "If you are running your code on a GPU, you should be able to achieve\n",
        "significantly faster exection."
      ]
    },
    {
      "cell_type": "markdown",
      "id": "754495fe",
      "metadata": {
        "id": "754495fe"
      },
      "source": [
        "## Solution to[ Exercise 2.2](https://jax.quantecon.org/#jax_intro_ex2)\n",
        "\n",
        "Here is one solution:"
      ]
    },
    {
      "cell_type": "code",
      "execution_count": 60,
      "id": "eb927df4",
      "metadata": {
        "hide-output": false,
        "id": "eb927df4"
      },
      "outputs": [],
      "source": [
        "M = 10_000_000\n",
        "\n",
        "n, β, K = 20, 0.99, 100\n",
        "μ, ρ, ν, S0, h0 = 0.0001, 0.1, 0.001, 10, 0\n",
        "\n",
        "@jax.jit\n",
        "def compute_call_price_jax(β=β,\n",
        "                           μ=μ,\n",
        "                           S0=S0,\n",
        "                           h0=h0,\n",
        "                           K=K,\n",
        "                           n=n,\n",
        "                           ρ=ρ,\n",
        "                           ν=ν,\n",
        "                           M=M,\n",
        "                           key=jax.random.PRNGKey(1)):\n",
        "\n",
        "    s = jnp.full(M, np.log(S0))\n",
        "    h = jnp.full(M, h0)\n",
        "    for t in range(n):\n",
        "        key, subkey = jax.random.split(key)\n",
        "        Z = jax.random.normal(subkey, (2, M))\n",
        "        s = s + μ + jnp.exp(h) * Z[0, :]\n",
        "        h = ρ * h + ν * Z[1, :]\n",
        "    expectation = jnp.mean(jnp.maximum(jnp.exp(s) - K, 0))\n",
        "\n",
        "    return β**n * expectation"
      ]
    },
    {
      "cell_type": "markdown",
      "id": "87d5c1dc",
      "metadata": {
        "id": "87d5c1dc"
      },
      "source": [
        "Let’s run it once to compile it:"
      ]
    },
    {
      "cell_type": "code",
      "execution_count": 61,
      "id": "2afc55b8",
      "metadata": {
        "hide-output": false,
        "id": "2afc55b8",
        "outputId": "91f35a87-21f6-4721-d4a3-14d3b7224450",
        "colab": {
          "base_uri": "https://localhost:8080/"
        }
      },
      "outputs": [
        {
          "output_type": "execute_result",
          "data": {
            "text/plain": [
              "Array(180876.48840921, dtype=float64)"
            ]
          },
          "metadata": {},
          "execution_count": 61
        }
      ],
      "source": [
        "compute_call_price_jax()"
      ]
    },
    {
      "cell_type": "markdown",
      "id": "df1327ea",
      "metadata": {
        "id": "df1327ea"
      },
      "source": [
        "And now let’s time it:"
      ]
    },
    {
      "cell_type": "code",
      "execution_count": 63,
      "id": "ddbfd958",
      "metadata": {
        "hide-output": false,
        "id": "ddbfd958",
        "outputId": "68b6b4b1-ec4f-470b-bcf1-f6f1304a1a9c",
        "colab": {
          "base_uri": "https://localhost:8080/"
        }
      },
      "outputs": [
        {
          "output_type": "stream",
          "name": "stdout",
          "text": [
            "CPU times: user 3 ms, sys: 1.97 ms, total: 4.96 ms\n",
            "Wall time: 669 ms\n"
          ]
        },
        {
          "output_type": "execute_result",
          "data": {
            "text/plain": [
              "Array(180876.48840921, dtype=float64)"
            ]
          },
          "metadata": {},
          "execution_count": 63
        }
      ],
      "source": [
        "%%time\n",
        "compute_call_price_jax().block_until_ready()"
      ]
    }
  ],
  "metadata": {
    "date": 1688450071.4634428,
    "filename": "jax_intro.md",
    "kernelspec": {
      "display_name": "Python 3",
      "name": "python3"
    },
    "title": "An Introduction to JAX",
    "colab": {
      "provenance": [],
      "gpuType": "T4"
    },
    "accelerator": "GPU"
  },
  "nbformat": 4,
  "nbformat_minor": 5
}